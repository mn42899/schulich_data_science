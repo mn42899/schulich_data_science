{
 "cells": [
  {
   "cell_type": "code",
   "execution_count": null,
   "metadata": {},
   "outputs": [],
   "source": [
    "## data exploration\n",
    "fig, ((ax1, ax2), (ax3, ax4), (ax5, ax6)) = plt.subplots(3,2, figsize=(14,10))\n",
    "sns.boxplot(x='Attrition', y='Age', data=df, ax=ax1)\n",
    "sns.boxplot(x='Attrition', y='Distance from Office', data=df, ax=ax2)\n",
    "sns.boxplot(x='Attrition', y='Monthly Income', data=df, ax=ax3)\n",
    "sns.boxplot(x='Attrition', y='Last Raise Percentage', data=df, ax=ax4)\n",
    "sns.boxplot(x='Attrition', y='Number of Promotions', data=df, ax=ax5)\n",
    "sns.boxplot(x='Attrition', y='Years at Company', data=df, ax=ax6)\n"
   ]
  }
 ],
 "metadata": {
  "language_info": {
   "name": "python"
  }
 },
 "nbformat": 4,
 "nbformat_minor": 2
}
