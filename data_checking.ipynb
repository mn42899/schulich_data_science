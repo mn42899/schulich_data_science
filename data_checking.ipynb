{
 "cells": [
  {
   "cell_type": "code",
   "execution_count": null,
   "metadata": {},
   "outputs": [],
   "source": [
    "# Check if all specified columns are present in the DataFrame\n",
    "missing_columns = set(numeric_columns + categorical_columns) - set(X_train.columns)\n",
    "\n",
    "if missing_columns:\n",
    "    print(f\"Missing columns in the DataFrame: {missing_columns}\")\n",
    "else:\n",
    "    print(\"All columns are present.\")\n",
    "\n",
    " # Check data types of the columns in the DataFrame\n",
    "print(X_train.dtypes)"
   ]
  },
  {
   "cell_type": "code",
   "execution_count": null,
   "metadata": {},
   "outputs": [],
   "source": [
    "# Check for duplicate columns\n",
    "duplicate_columns = X_train.columns[X_train.columns.duplicated()]\n",
    "if not duplicate_columns.empty:\n",
    "    print(f\"Duplicate columns found: {duplicate_columns}\")\n",
    "else:\n",
    "    print(\"No duplicate columns found.\")\n",
    "\n",
    "# Check for unique values in categorical columns to ensure encoding will work correctly\n",
    "for column in categorical_columns:\n",
    "    unique_values = X_train[column].unique()\n",
    "    print(f\"Column: {column}, Unique Values: {unique_values}\")"
   ]
  }
 ],
 "metadata": {
  "language_info": {
   "name": "python"
  }
 },
 "nbformat": 4,
 "nbformat_minor": 2
}
