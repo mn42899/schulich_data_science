{
 "cells": [
  {
   "cell_type": "code",
   "execution_count": 1,
   "metadata": {},
   "outputs": [],
   "source": [
    "import numpy as np\n",
    "import pandas as pd\n",
    "import seaborn as sns\n",
    "import matplotlib.pyplot as plt\n",
    "from sklearn.model_selection import train_test_split, cross_val_score\n",
    "from sklearn.metrics import f1_score, PrecisionRecallDisplay, precision_score, recall_score, roc_auc_score, RocCurveDisplay, roc_curve, confusion_matrix\n",
    "from sklearn.linear_model import LogisticRegression"
   ]
  },
  {
   "cell_type": "code",
   "execution_count": 3,
   "metadata": {},
   "outputs": [],
   "source": [
    "# URLs of the CSV files\n",
    "urls = {\n",
    "    \"customers\": \"https://raw.githubusercontent.com/delinai/schulich_ds1_2024/main/Datasets/customers_final.csv\",\n",
    "    \"engagements\": \"https://raw.githubusercontent.com/delinai/schulich_ds1_2024/main/Datasets/engagements_final.csv\",\n",
    "    \"marketing\": \"https://raw.githubusercontent.com/delinai/schulich_ds1_2024/main/Datasets/marketing_final.csv\",\n",
    "    \"transactions\": \"https://raw.githubusercontent.com/delinai/schulich_ds1_2024/main/Datasets/transactions_final.csv\"\n",
    "}"
   ]
  },
  {
   "cell_type": "code",
   "execution_count": 4,
   "metadata": {},
   "outputs": [],
   "source": [
    "# Read each CSV file into a DataFrame\n",
    "customers_df = pd.read_csv(urls[\"customers\"])\n",
    "engagements_df = pd.read_csv(urls[\"engagements\"])\n",
    "marketing_df = pd.read_csv(urls[\"marketing\"])\n",
    "transactions_df = pd.read_csv(urls[\"transactions\"])"
   ]
  },
  {
   "cell_type": "code",
   "execution_count": null,
   "metadata": {},
   "outputs": [],
   "source": [
    "# Merge DataFrames on 'customer_id'\n",
    "merged_df = customers_df.merge(engagements_df, on=\"customer_id\", how=\"left\")\n",
    "merged_df = merged_df.merge(marketing_df, on=\"customer_id\", how=\"left\")\n",
    "merged_df = merged_df.merge(transactions_df, on=\"customer_id\", how=\"left\")"
   ]
  },
  {
   "cell_type": "code",
   "execution_count": null,
   "metadata": {},
   "outputs": [],
   "source": [
    "# Display the merged DataFrame\n",
    "print(merged_df)"
   ]
  },
  {
   "cell_type": "code",
   "execution_count": null,
   "metadata": {},
   "outputs": [],
   "source": []
  }
 ],
 "metadata": {
  "kernelspec": {
   "display_name": "Python 3",
   "language": "python",
   "name": "python3"
  },
  "language_info": {
   "codemirror_mode": {
    "name": "ipython",
    "version": 3
   },
   "file_extension": ".py",
   "mimetype": "text/x-python",
   "name": "python",
   "nbconvert_exporter": "python",
   "pygments_lexer": "ipython3",
   "version": "3.12.3"
  }
 },
 "nbformat": 4,
 "nbformat_minor": 2
}
